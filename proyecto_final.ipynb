{
 "cells": [
  {
   "cell_type": "markdown",
   "metadata": {},
   "source": [
    "## 1. Identificación del Problema\n",
    "\n",
    "El problema específico es la alta tasa de deserción de clientes en el sector de telecomunicaciones en la India. Esto implica que los clientes abandonan sus servicios actuales para cambiarse a otros proveedores.\n",
    "\n",
    "## 2. Relevancia del Problema\n",
    "\n",
    "Este problema es relevante porque una alta tasa de deserción afecta la rentabilidad y sostenibilidad de las empresas de telecomunicaciones. Además, entender los factores que influyen en la fidelidad de los clientes puede ayudar a mejorar los servicios y la satisfacción del cliente.\n",
    "\n",
    "## 3. Objetivos Específicos\n",
    "\n",
    "#### Los objetivos concretos son:\n",
    "\n",
    "\t•\tIdentificar los principales factores que contribuyen a la deserción de clientes.\n",
    "\t•\tDesarrollar un modelo predictivo que pueda predecir con precisión la probabilidad de deserción de un cliente.\n",
    "\t•\tProporcionar recomendaciones basadas en los hallazgos para reducir la tasa de churn.\n",
    "\n",
    "## 5. Preguntas de Investigación\n",
    "\n",
    "#### Las preguntas de investigación podrían ser:\n",
    "\n",
    "\t•\t¿Qué factores demográficos y de comportamiento están más asociados con la deserción de clientes?\n",
    "\t•\t¿Cómo varía la tasa de churn entre diferentes proveedores de telecomunicaciones?\n",
    "\n",
    "## 6. Hipótesis Iniciales o Suposiciones\n",
    "\n",
    "##### Una hipótesis inicial podría ser que factores como el costo del plan, la calidad del servicio y la edad del cliente influyen significativamente en la deserción.\n",
    "\n",
    "## 7. Potenciales Desafíos y Limitaciones\n",
    "\n",
    "#### Los desafíos podrían incluir:\n",
    "\n",
    "\t•\tLa calidad y completitud de los datos.\n",
    "\t•\tInterpretar correctamente las complejas interacciones entre diferentes variables.\n",
    "\t•\tLa generalización de los resultados a toda la población de clientes.\n",
    "\n",
    "## 8. Planificación Preliminar y Distribución del Trabajo\n",
    "\n",
    "#### El trabajo se podría organizar en varias fases:\n",
    "\n",
    "\t•\tAnálisis exploratorio y preparación de datos.\n",
    "\t•\tDesarrollo y validación de modelos predictivos.\n",
    "\t•\tAnálisis de resultados y formulación de recomendaciones.\n",
    "\t•\tLa distribución del trabajo dependerá de las habilidades del equipo, como análisis de datos, modelado estadístico y \n",
    "\t\texperiencia en telecomunicaciones.\n",
    "\n",
    "\n",
    "Variable \t\t   : Description\n",
    "\n",
    "**customer_id**  \t   : Unique identifier for each customer.\n",
    "\n",
    "**telecom_partner**   : The telecom partner associated with the customer.\n",
    "\n",
    "**gender**             : The gender of the customer.\n",
    "\n",
    "**age** \t\t\t  : The age of the customer.\n",
    "\n",
    "**state**\t\t\t   : The Indian state in which the customer is located.\n",
    "\n",
    "**city**\t\t\t   : The city in which the customer is located.\n",
    "\n",
    "**pincode**\t\t   : The pincode of the customer's location.\n",
    "\n",
    "**registration_event** : When the customer registered with the telecom partner.\n",
    "\n",
    "**num_dependents** : The number of dependents (e.g., children) the customer has.\n",
    "\n",
    "**estimated_salary**   : The customer's estimated salary.\n",
    "\n",
    "\n"
   ]
  },
  {
   "cell_type": "code",
   "execution_count": 4,
   "metadata": {},
   "outputs": [],
   "source": [
    "#!pip install seaborn\n",
    "#!pip install pandas \n",
    "#!pip install numpy\n",
    "#!pip install matplotlib  "
   ]
  },
  {
   "cell_type": "code",
   "execution_count": 5,
   "metadata": {},
   "outputs": [],
   "source": [
    "#Importamos las librerías princiaples\n",
    "import pandas as pd\n",
    "import numpy as np\n",
    "import matplotlib.pyplot as plt\n",
    "import seaborn as sns"
   ]
  },
  {
   "cell_type": "code",
   "execution_count": 6,
   "metadata": {},
   "outputs": [],
   "source": [
    "#Lectura de los archivos .csv con pandas\n",
    "df1 = pd.read_csv('telecom_demographics.csv')\n",
    "df2 = pd.read_csv('telecom_usage.csv')"
   ]
  },
  {
   "cell_type": "code",
   "execution_count": 7,
   "metadata": {},
   "outputs": [
    {
     "data": {
      "text/html": [
       "<div>\n",
       "<style scoped>\n",
       "    .dataframe tbody tr th:only-of-type {\n",
       "        vertical-align: middle;\n",
       "    }\n",
       "\n",
       "    .dataframe tbody tr th {\n",
       "        vertical-align: top;\n",
       "    }\n",
       "\n",
       "    .dataframe thead th {\n",
       "        text-align: right;\n",
       "    }\n",
       "</style>\n",
       "<table border=\"1\" class=\"dataframe\">\n",
       "  <thead>\n",
       "    <tr style=\"text-align: right;\">\n",
       "      <th></th>\n",
       "      <th>customer_id</th>\n",
       "      <th>telecom_partner</th>\n",
       "      <th>gender</th>\n",
       "      <th>age</th>\n",
       "      <th>state</th>\n",
       "      <th>city</th>\n",
       "      <th>pincode</th>\n",
       "      <th>registration_event</th>\n",
       "      <th>num_dependents</th>\n",
       "      <th>estimated_salary</th>\n",
       "      <th>calls_made</th>\n",
       "      <th>sms_sent</th>\n",
       "      <th>data_used</th>\n",
       "      <th>churn</th>\n",
       "    </tr>\n",
       "  </thead>\n",
       "  <tbody>\n",
       "    <tr>\n",
       "      <th>0</th>\n",
       "      <td>15169</td>\n",
       "      <td>Airtel</td>\n",
       "      <td>F</td>\n",
       "      <td>26</td>\n",
       "      <td>Himachal Pradesh</td>\n",
       "      <td>Delhi</td>\n",
       "      <td>667173</td>\n",
       "      <td>2020-03-16</td>\n",
       "      <td>4</td>\n",
       "      <td>85979</td>\n",
       "      <td>75</td>\n",
       "      <td>21</td>\n",
       "      <td>4532</td>\n",
       "      <td>1</td>\n",
       "    </tr>\n",
       "    <tr>\n",
       "      <th>1</th>\n",
       "      <td>149207</td>\n",
       "      <td>Airtel</td>\n",
       "      <td>F</td>\n",
       "      <td>74</td>\n",
       "      <td>Uttarakhand</td>\n",
       "      <td>Hyderabad</td>\n",
       "      <td>313997</td>\n",
       "      <td>2022-01-16</td>\n",
       "      <td>0</td>\n",
       "      <td>69445</td>\n",
       "      <td>35</td>\n",
       "      <td>38</td>\n",
       "      <td>723</td>\n",
       "      <td>1</td>\n",
       "    </tr>\n",
       "    <tr>\n",
       "      <th>2</th>\n",
       "      <td>148119</td>\n",
       "      <td>Airtel</td>\n",
       "      <td>F</td>\n",
       "      <td>54</td>\n",
       "      <td>Jharkhand</td>\n",
       "      <td>Chennai</td>\n",
       "      <td>549925</td>\n",
       "      <td>2022-01-11</td>\n",
       "      <td>2</td>\n",
       "      <td>75949</td>\n",
       "      <td>70</td>\n",
       "      <td>47</td>\n",
       "      <td>4688</td>\n",
       "      <td>1</td>\n",
       "    </tr>\n",
       "    <tr>\n",
       "      <th>3</th>\n",
       "      <td>187288</td>\n",
       "      <td>Reliance Jio</td>\n",
       "      <td>M</td>\n",
       "      <td>29</td>\n",
       "      <td>Bihar</td>\n",
       "      <td>Hyderabad</td>\n",
       "      <td>230636</td>\n",
       "      <td>2022-07-26</td>\n",
       "      <td>3</td>\n",
       "      <td>34272</td>\n",
       "      <td>95</td>\n",
       "      <td>32</td>\n",
       "      <td>10241</td>\n",
       "      <td>1</td>\n",
       "    </tr>\n",
       "    <tr>\n",
       "      <th>4</th>\n",
       "      <td>14016</td>\n",
       "      <td>Vodafone</td>\n",
       "      <td>M</td>\n",
       "      <td>45</td>\n",
       "      <td>Nagaland</td>\n",
       "      <td>Bangalore</td>\n",
       "      <td>188036</td>\n",
       "      <td>2020-03-11</td>\n",
       "      <td>4</td>\n",
       "      <td>34157</td>\n",
       "      <td>66</td>\n",
       "      <td>23</td>\n",
       "      <td>5246</td>\n",
       "      <td>1</td>\n",
       "    </tr>\n",
       "    <tr>\n",
       "      <th>...</th>\n",
       "      <td>...</td>\n",
       "      <td>...</td>\n",
       "      <td>...</td>\n",
       "      <td>...</td>\n",
       "      <td>...</td>\n",
       "      <td>...</td>\n",
       "      <td>...</td>\n",
       "      <td>...</td>\n",
       "      <td>...</td>\n",
       "      <td>...</td>\n",
       "      <td>...</td>\n",
       "      <td>...</td>\n",
       "      <td>...</td>\n",
       "      <td>...</td>\n",
       "    </tr>\n",
       "    <tr>\n",
       "      <th>6495</th>\n",
       "      <td>78836</td>\n",
       "      <td>Airtel</td>\n",
       "      <td>M</td>\n",
       "      <td>54</td>\n",
       "      <td>Odisha</td>\n",
       "      <td>Chennai</td>\n",
       "      <td>125785</td>\n",
       "      <td>2021-01-29</td>\n",
       "      <td>4</td>\n",
       "      <td>124805</td>\n",
       "      <td>-2</td>\n",
       "      <td>39</td>\n",
       "      <td>5000</td>\n",
       "      <td>0</td>\n",
       "    </tr>\n",
       "    <tr>\n",
       "      <th>6496</th>\n",
       "      <td>146521</td>\n",
       "      <td>BSNL</td>\n",
       "      <td>M</td>\n",
       "      <td>69</td>\n",
       "      <td>Andhra Pradesh</td>\n",
       "      <td>Hyderabad</td>\n",
       "      <td>923076</td>\n",
       "      <td>2022-01-03</td>\n",
       "      <td>1</td>\n",
       "      <td>65605</td>\n",
       "      <td>20</td>\n",
       "      <td>31</td>\n",
       "      <td>3562</td>\n",
       "      <td>0</td>\n",
       "    </tr>\n",
       "    <tr>\n",
       "      <th>6497</th>\n",
       "      <td>40413</td>\n",
       "      <td>Airtel</td>\n",
       "      <td>M</td>\n",
       "      <td>19</td>\n",
       "      <td>Gujarat</td>\n",
       "      <td>Hyderabad</td>\n",
       "      <td>152201</td>\n",
       "      <td>2020-07-21</td>\n",
       "      <td>0</td>\n",
       "      <td>28632</td>\n",
       "      <td>73</td>\n",
       "      <td>14</td>\n",
       "      <td>65</td>\n",
       "      <td>0</td>\n",
       "    </tr>\n",
       "    <tr>\n",
       "      <th>6498</th>\n",
       "      <td>64961</td>\n",
       "      <td>Vodafone</td>\n",
       "      <td>M</td>\n",
       "      <td>26</td>\n",
       "      <td>Meghalaya</td>\n",
       "      <td>Chennai</td>\n",
       "      <td>782127</td>\n",
       "      <td>2020-11-21</td>\n",
       "      <td>3</td>\n",
       "      <td>119757</td>\n",
       "      <td>52</td>\n",
       "      <td>8</td>\n",
       "      <td>6835</td>\n",
       "      <td>0</td>\n",
       "    </tr>\n",
       "    <tr>\n",
       "      <th>6499</th>\n",
       "      <td>60427</td>\n",
       "      <td>Reliance Jio</td>\n",
       "      <td>M</td>\n",
       "      <td>19</td>\n",
       "      <td>Mizoram</td>\n",
       "      <td>Hyderabad</td>\n",
       "      <td>918496</td>\n",
       "      <td>2020-10-29</td>\n",
       "      <td>3</td>\n",
       "      <td>119368</td>\n",
       "      <td>90</td>\n",
       "      <td>12</td>\n",
       "      <td>5531</td>\n",
       "      <td>0</td>\n",
       "    </tr>\n",
       "  </tbody>\n",
       "</table>\n",
       "<p>6500 rows × 14 columns</p>\n",
       "</div>"
      ],
      "text/plain": [
       "      customer_id telecom_partner gender  age             state       city  \\\n",
       "0           15169          Airtel      F   26  Himachal Pradesh      Delhi   \n",
       "1          149207          Airtel      F   74       Uttarakhand  Hyderabad   \n",
       "2          148119          Airtel      F   54         Jharkhand    Chennai   \n",
       "3          187288    Reliance Jio      M   29             Bihar  Hyderabad   \n",
       "4           14016        Vodafone      M   45          Nagaland  Bangalore   \n",
       "...           ...             ...    ...  ...               ...        ...   \n",
       "6495        78836          Airtel      M   54            Odisha    Chennai   \n",
       "6496       146521            BSNL      M   69    Andhra Pradesh  Hyderabad   \n",
       "6497        40413          Airtel      M   19           Gujarat  Hyderabad   \n",
       "6498        64961        Vodafone      M   26         Meghalaya    Chennai   \n",
       "6499        60427    Reliance Jio      M   19           Mizoram  Hyderabad   \n",
       "\n",
       "      pincode registration_event  num_dependents  estimated_salary  \\\n",
       "0      667173         2020-03-16               4             85979   \n",
       "1      313997         2022-01-16               0             69445   \n",
       "2      549925         2022-01-11               2             75949   \n",
       "3      230636         2022-07-26               3             34272   \n",
       "4      188036         2020-03-11               4             34157   \n",
       "...       ...                ...             ...               ...   \n",
       "6495   125785         2021-01-29               4            124805   \n",
       "6496   923076         2022-01-03               1             65605   \n",
       "6497   152201         2020-07-21               0             28632   \n",
       "6498   782127         2020-11-21               3            119757   \n",
       "6499   918496         2020-10-29               3            119368   \n",
       "\n",
       "      calls_made  sms_sent  data_used  churn  \n",
       "0             75        21       4532      1  \n",
       "1             35        38        723      1  \n",
       "2             70        47       4688      1  \n",
       "3             95        32      10241      1  \n",
       "4             66        23       5246      1  \n",
       "...          ...       ...        ...    ...  \n",
       "6495          -2        39       5000      0  \n",
       "6496          20        31       3562      0  \n",
       "6497          73        14         65      0  \n",
       "6498          52         8       6835      0  \n",
       "6499          90        12       5531      0  \n",
       "\n",
       "[6500 rows x 14 columns]"
      ]
     },
     "execution_count": 7,
     "metadata": {},
     "output_type": "execute_result"
    }
   ],
   "source": [
    "#Unimos los dos dataframes con la variable customer id\n",
    "df_full = pd.merge(df1,df2,on='customer_id')\n",
    "df_full"
   ]
  },
  {
   "cell_type": "code",
   "execution_count": 8,
   "metadata": {},
   "outputs": [
    {
     "data": {
      "image/png": "[encoded data removed]",
      "text/plain": [
       "<Figure size 640x480 with 1 Axes>"
      ]
     },
     "metadata": {},
     "output_type": "display_data"
    }
   ],
   "source": [
    "churn_counts = df_full['churn'].value_counts().replace({0: 'No', 1: 'Sí'})\n",
    "\n",
    "# Crear un gráfico de barras\n",
    "churn_counts.plot(kind='bar')\n",
    "\n",
    "# Configurar etiquetas\n",
    "plt.xlabel('¿Renuncia?')\n",
    "plt.ylabel('Cantidad de clientes')\n",
    "plt.title('Distribución de renuncias de clientes')\n",
    "plt.xticks([0, 1], ['No', 'Sí'], rotation=0)\n",
    "\n",
    "# Mostrar el gráfico\n",
    "plt.show()"
   ]
  },
  {
   "cell_type": "code",
   "execution_count": 9,
   "metadata": {},
   "outputs": [
    {
     "data": {
      "text/plain": [
       "telecom_partner\n",
       "Airtel          1598\n",
       "BSNL            1635\n",
       "Reliance Jio    1658\n",
       "Vodafone        1609\n",
       "Name: churn, dtype: int64"
      ]
     },
     "execution_count": 9,
     "metadata": {},
     "output_type": "execute_result"
    }
   ],
   "source": [
    "df_full.groupby('telecom_partner')['churn'].count()"
   ]
  },
  {
   "cell_type": "code",
   "execution_count": 10,
   "metadata": {},
   "outputs": [
    {
     "data": {
      "text/plain": [
       "calls_made\n",
       "86    86\n",
       "83    82\n",
       "89    80\n",
       "70    80\n",
       "38    78\n",
       "87    77\n",
       "90    75\n",
       "47    74\n",
       "9     74\n",
       "16    74\n",
       "Name: churn, dtype: int64"
      ]
     },
     "execution_count": 10,
     "metadata": {},
     "output_type": "execute_result"
    }
   ],
   "source": [
    "df_full.groupby('calls_made')['churn'].count().sort_values(ascending=False)[0:10]"
   ]
  },
  {
   "cell_type": "code",
   "execution_count": 11,
   "metadata": {},
   "outputs": [
    {
     "data": {
      "text/plain": [
       "(array([ 21.,  24.,  71.,  62.,  70., 144.,  98., 118., 193., 127., 139.,\n",
       "        185., 138., 164., 130., 129., 193., 133., 124., 180., 133., 129.,\n",
       "        195., 116., 136., 199., 123., 196., 137., 125., 185., 132., 133.,\n",
       "        198., 113., 134., 184., 118., 181., 132., 149., 218., 135., 127.,\n",
       "        146.,  74.,  76.,  95.,  28.,  10.]),\n",
       " array([-10.  ,  -7.64,  -5.28,  -2.92,  -0.56,   1.8 ,   4.16,   6.52,\n",
       "          8.88,  11.24,  13.6 ,  15.96,  18.32,  20.68,  23.04,  25.4 ,\n",
       "         27.76,  30.12,  32.48,  34.84,  37.2 ,  39.56,  41.92,  44.28,\n",
       "         46.64,  49.  ,  51.36,  53.72,  56.08,  58.44,  60.8 ,  63.16,\n",
       "         65.52,  67.88,  70.24,  72.6 ,  74.96,  77.32,  79.68,  82.04,\n",
       "         84.4 ,  86.76,  89.12,  91.48,  93.84,  96.2 ,  98.56, 100.92,\n",
       "        103.28, 105.64, 108.  ]),\n",
       " <BarContainer object of 50 artists>)"
      ]
     },
     "execution_count": 11,
     "metadata": {},
     "output_type": "execute_result"
    },
    {
     "data": {
      "image/png": "[encoded data removed]",
      "text/plain": [
       "<Figure size 640x480 with 1 Axes>"
      ]
     },
     "metadata": {},
     "output_type": "display_data"
    }
   ],
   "source": [
    "plt.hist(df_full['calls_made'], bins=50)"
   ]
  },
  {
   "cell_type": "code",
   "execution_count": 12,
   "metadata": {},
   "outputs": [],
   "source": [
    "import seaborn as sns\n",
    "import warnings "
   ]
  },
  {
   "cell_type": "code",
   "execution_count": 13,
   "metadata": {},
   "outputs": [
    {
     "data": {
      "text/plain": [
       "churn\n",
       "0    5197\n",
       "1    1303\n",
       "Name: count, dtype: int64"
      ]
     },
     "execution_count": 13,
     "metadata": {},
     "output_type": "execute_result"
    }
   ],
   "source": [
    "df_full['churn'].value_counts()"
   ]
  },
  {
   "cell_type": "code",
   "execution_count": 14,
   "metadata": {},
   "outputs": [
    {
     "name": "stderr",
     "output_type": "stream",
     "text": [
      "c:\\Users\\fabri\\AppData\\Local\\Programs\\Python\\Python311\\Lib\\site-packages\\seaborn\\_oldcore.py:1498: FutureWarning: is_categorical_dtype is deprecated and will be removed in a future version. Use isinstance(dtype, CategoricalDtype) instead\n",
      "  if pd.api.types.is_categorical_dtype(vector):\n",
      "c:\\Users\\fabri\\AppData\\Local\\Programs\\Python\\Python311\\Lib\\site-packages\\seaborn\\_oldcore.py:1119: FutureWarning: use_inf_as_na option is deprecated and will be removed in a future version. Convert inf values to NaN before operating instead.\n",
      "  with pd.option_context('mode.use_inf_as_na', True):\n"
     ]
    },
    {
     "data": {
      "text/plain": [
       "<seaborn.axisgrid.FacetGrid at 0x1858a57a710>"
      ]
     },
     "execution_count": 14,
     "metadata": {},
     "output_type": "execute_result"
    },
    {
     "data": {
      "image/png": "[encoded data removed]",
      "text/plain": [
       "<Figure size 500x500 with 1 Axes>"
      ]
     },
     "metadata": {},
     "output_type": "display_data"
    }
   ],
   "source": [
    "sns.displot(df_full['estimated_salary'], bins=81)"
   ]
  },
  {
   "cell_type": "code",
   "execution_count": 15,
   "metadata": {},
   "outputs": [
    {
     "data": {
      "text/plain": [
       "(6500, 14)"
      ]
     },
     "execution_count": 15,
     "metadata": {},
     "output_type": "execute_result"
    }
   ],
   "source": [
    "df_full.shape"
   ]
  },
  {
   "cell_type": "code",
   "execution_count": 16,
   "metadata": {},
   "outputs": [],
   "source": [
    "num_bins = 14\n",
    "\n",
    "# Calcula los límites de los bins\n",
    "bin_width = (max(df_full['estimated_salary']) - min(df_full['estimated_salary'])) / num_bins\n",
    "bins = [min(df_full['estimated_salary']) + i * bin_width for i in range(num_bins + 1)]\n"
   ]
  },
  {
   "cell_type": "code",
   "execution_count": 17,
   "metadata": {},
   "outputs": [
    {
     "data": {
      "text/plain": [
       "0       11\n",
       "1        8\n",
       "2        9\n",
       "3        3\n",
       "4        2\n",
       "        ..\n",
       "6495    16\n",
       "6496     7\n",
       "6497     2\n",
       "6498    16\n",
       "6499    16\n",
       "Name: rango, Length: 6500, dtype: int64"
      ]
     },
     "execution_count": 17,
     "metadata": {},
     "output_type": "execute_result"
    }
   ],
   "source": [
    "num_rangos = 20\n",
    "\n",
    "# Calcula los límites de los rangos\n",
    "rangos = pd.qcut(df_full['estimated_salary'], q=num_rangos, labels=False) + 1\n",
    "\n",
    "# Crea una nueva columna con los valores de los rangos\n",
    "df_full['rango'] = rangos\n",
    "\n",
    "# Muestra el DataFrame resultante\n",
    "df_full['rango']"
   ]
  },
  {
   "cell_type": "code",
   "execution_count": 18,
   "metadata": {},
   "outputs": [
    {
     "data": {
      "text/html": [
       "<div>\n",
       "<style scoped>\n",
       "    .dataframe tbody tr th:only-of-type {\n",
       "        vertical-align: middle;\n",
       "    }\n",
       "\n",
       "    .dataframe tbody tr th {\n",
       "        vertical-align: top;\n",
       "    }\n",
       "\n",
       "    .dataframe thead th {\n",
       "        text-align: right;\n",
       "    }\n",
       "</style>\n",
       "<table border=\"1\" class=\"dataframe\">\n",
       "  <thead>\n",
       "    <tr style=\"text-align: right;\">\n",
       "      <th></th>\n",
       "      <th>rango</th>\n",
       "      <th>churn</th>\n",
       "    </tr>\n",
       "  </thead>\n",
       "  <tbody>\n",
       "    <tr>\n",
       "      <th>0</th>\n",
       "      <td>1</td>\n",
       "      <td>64</td>\n",
       "    </tr>\n",
       "    <tr>\n",
       "      <th>1</th>\n",
       "      <td>2</td>\n",
       "      <td>80</td>\n",
       "    </tr>\n",
       "    <tr>\n",
       "      <th>2</th>\n",
       "      <td>3</td>\n",
       "      <td>83</td>\n",
       "    </tr>\n",
       "    <tr>\n",
       "      <th>3</th>\n",
       "      <td>4</td>\n",
       "      <td>62</td>\n",
       "    </tr>\n",
       "    <tr>\n",
       "      <th>4</th>\n",
       "      <td>5</td>\n",
       "      <td>65</td>\n",
       "    </tr>\n",
       "    <tr>\n",
       "      <th>5</th>\n",
       "      <td>6</td>\n",
       "      <td>59</td>\n",
       "    </tr>\n",
       "    <tr>\n",
       "      <th>6</th>\n",
       "      <td>7</td>\n",
       "      <td>65</td>\n",
       "    </tr>\n",
       "    <tr>\n",
       "      <th>7</th>\n",
       "      <td>8</td>\n",
       "      <td>61</td>\n",
       "    </tr>\n",
       "    <tr>\n",
       "      <th>8</th>\n",
       "      <td>9</td>\n",
       "      <td>70</td>\n",
       "    </tr>\n",
       "    <tr>\n",
       "      <th>9</th>\n",
       "      <td>10</td>\n",
       "      <td>58</td>\n",
       "    </tr>\n",
       "    <tr>\n",
       "      <th>10</th>\n",
       "      <td>11</td>\n",
       "      <td>66</td>\n",
       "    </tr>\n",
       "    <tr>\n",
       "      <th>11</th>\n",
       "      <td>12</td>\n",
       "      <td>67</td>\n",
       "    </tr>\n",
       "    <tr>\n",
       "      <th>12</th>\n",
       "      <td>13</td>\n",
       "      <td>56</td>\n",
       "    </tr>\n",
       "    <tr>\n",
       "      <th>13</th>\n",
       "      <td>14</td>\n",
       "      <td>66</td>\n",
       "    </tr>\n",
       "    <tr>\n",
       "      <th>14</th>\n",
       "      <td>15</td>\n",
       "      <td>73</td>\n",
       "    </tr>\n",
       "    <tr>\n",
       "      <th>15</th>\n",
       "      <td>16</td>\n",
       "      <td>57</td>\n",
       "    </tr>\n",
       "    <tr>\n",
       "      <th>16</th>\n",
       "      <td>17</td>\n",
       "      <td>62</td>\n",
       "    </tr>\n",
       "    <tr>\n",
       "      <th>17</th>\n",
       "      <td>18</td>\n",
       "      <td>67</td>\n",
       "    </tr>\n",
       "    <tr>\n",
       "      <th>18</th>\n",
       "      <td>19</td>\n",
       "      <td>67</td>\n",
       "    </tr>\n",
       "    <tr>\n",
       "      <th>19</th>\n",
       "      <td>20</td>\n",
       "      <td>55</td>\n",
       "    </tr>\n",
       "  </tbody>\n",
       "</table>\n",
       "</div>"
      ],
      "text/plain": [
       "    rango  churn\n",
       "0       1     64\n",
       "1       2     80\n",
       "2       3     83\n",
       "3       4     62\n",
       "4       5     65\n",
       "5       6     59\n",
       "6       7     65\n",
       "7       8     61\n",
       "8       9     70\n",
       "9      10     58\n",
       "10     11     66\n",
       "11     12     67\n",
       "12     13     56\n",
       "13     14     66\n",
       "14     15     73\n",
       "15     16     57\n",
       "16     17     62\n",
       "17     18     67\n",
       "18     19     67\n",
       "19     20     55"
      ]
     },
     "execution_count": 18,
     "metadata": {},
     "output_type": "execute_result"
    }
   ],
   "source": [
    "rango_df = df_full.groupby('rango')['churn'].sum().reset_index()\n",
    "rango_df "
   ]
  },
  {
   "cell_type": "code",
   "execution_count": 19,
   "metadata": {},
   "outputs": [
    {
     "name": "stderr",
     "output_type": "stream",
     "text": [
      "c:\\Users\\fabri\\AppData\\Local\\Programs\\Python\\Python311\\Lib\\site-packages\\seaborn\\_oldcore.py:1498: FutureWarning: is_categorical_dtype is deprecated and will be removed in a future version. Use isinstance(dtype, CategoricalDtype) instead\n",
      "  if pd.api.types.is_categorical_dtype(vector):\n",
      "c:\\Users\\fabri\\AppData\\Local\\Programs\\Python\\Python311\\Lib\\site-packages\\seaborn\\_oldcore.py:1498: FutureWarning: is_categorical_dtype is deprecated and will be removed in a future version. Use isinstance(dtype, CategoricalDtype) instead\n",
      "  if pd.api.types.is_categorical_dtype(vector):\n",
      "c:\\Users\\fabri\\AppData\\Local\\Programs\\Python\\Python311\\Lib\\site-packages\\seaborn\\_oldcore.py:1498: FutureWarning: is_categorical_dtype is deprecated and will be removed in a future version. Use isinstance(dtype, CategoricalDtype) instead\n",
      "  if pd.api.types.is_categorical_dtype(vector):\n"
     ]
    },
    {
     "data": {
      "image/png": "[encoded data removed]",
      "text/plain": [
       "<Figure size 640x480 with 1 Axes>"
      ]
     },
     "metadata": {},
     "output_type": "display_data"
    }
   ],
   "source": [
    "sns.barplot(x=rango_df['rango'], y=rango_df['churn'])\n",
    "plt.xticks(rotation=45)\n",
    "plt.show()"
   ]
  },
  {
   "cell_type": "code",
   "execution_count": 24,
   "metadata": {},
   "outputs": [
    {
     "data": {
      "text/html": [
       "<div>\n",
       "<style scoped>\n",
       "    .dataframe tbody tr th:only-of-type {\n",
       "        vertical-align: middle;\n",
       "    }\n",
       "\n",
       "    .dataframe tbody tr th {\n",
       "        vertical-align: top;\n",
       "    }\n",
       "\n",
       "    .dataframe thead th {\n",
       "        text-align: right;\n",
       "    }\n",
       "</style>\n",
       "<table border=\"1\" class=\"dataframe\">\n",
       "  <thead>\n",
       "    <tr style=\"text-align: right;\">\n",
       "      <th></th>\n",
       "      <th>age</th>\n",
       "      <th>churn</th>\n",
       "    </tr>\n",
       "  </thead>\n",
       "  <tbody>\n",
       "    <tr>\n",
       "      <th>17</th>\n",
       "      <td>35</td>\n",
       "      <td>36</td>\n",
       "    </tr>\n",
       "    <tr>\n",
       "      <th>45</th>\n",
       "      <td>63</td>\n",
       "      <td>35</td>\n",
       "    </tr>\n",
       "    <tr>\n",
       "      <th>19</th>\n",
       "      <td>37</td>\n",
       "      <td>34</td>\n",
       "    </tr>\n",
       "    <tr>\n",
       "      <th>38</th>\n",
       "      <td>56</td>\n",
       "      <td>31</td>\n",
       "    </tr>\n",
       "    <tr>\n",
       "      <th>18</th>\n",
       "      <td>36</td>\n",
       "      <td>31</td>\n",
       "    </tr>\n",
       "    <tr>\n",
       "      <th>30</th>\n",
       "      <td>48</td>\n",
       "      <td>30</td>\n",
       "    </tr>\n",
       "    <tr>\n",
       "      <th>24</th>\n",
       "      <td>42</td>\n",
       "      <td>29</td>\n",
       "    </tr>\n",
       "    <tr>\n",
       "      <th>37</th>\n",
       "      <td>55</td>\n",
       "      <td>29</td>\n",
       "    </tr>\n",
       "    <tr>\n",
       "      <th>42</th>\n",
       "      <td>60</td>\n",
       "      <td>29</td>\n",
       "    </tr>\n",
       "    <tr>\n",
       "      <th>39</th>\n",
       "      <td>57</td>\n",
       "      <td>28</td>\n",
       "    </tr>\n",
       "  </tbody>\n",
       "</table>\n",
       "</div>"
      ],
      "text/plain": [
       "    age  churn\n",
       "17   35     36\n",
       "45   63     35\n",
       "19   37     34\n",
       "38   56     31\n",
       "18   36     31\n",
       "30   48     30\n",
       "24   42     29\n",
       "37   55     29\n",
       "42   60     29\n",
       "39   57     28"
      ]
     },
     "execution_count": 24,
     "metadata": {},
     "output_type": "execute_result"
    }
   ],
   "source": [
    "age_df = df_full.groupby('age')['churn'].sum().reset_index().sort_values(by='churn', ascending=False).head(10)\n",
    "age_df "
   ]
  },
  {
   "cell_type": "code",
   "execution_count": 21,
   "metadata": {},
   "outputs": [
    {
     "name": "stderr",
     "output_type": "stream",
     "text": [
      "c:\\Users\\fabri\\AppData\\Local\\Programs\\Python\\Python311\\Lib\\site-packages\\seaborn\\_oldcore.py:1498: FutureWarning: is_categorical_dtype is deprecated and will be removed in a future version. Use isinstance(dtype, CategoricalDtype) instead\n",
      "  if pd.api.types.is_categorical_dtype(vector):\n",
      "c:\\Users\\fabri\\AppData\\Local\\Programs\\Python\\Python311\\Lib\\site-packages\\seaborn\\_oldcore.py:1498: FutureWarning: is_categorical_dtype is deprecated and will be removed in a future version. Use isinstance(dtype, CategoricalDtype) instead\n",
      "  if pd.api.types.is_categorical_dtype(vector):\n",
      "c:\\Users\\fabri\\AppData\\Local\\Programs\\Python\\Python311\\Lib\\site-packages\\seaborn\\_oldcore.py:1498: FutureWarning: is_categorical_dtype is deprecated and will be removed in a future version. Use isinstance(dtype, CategoricalDtype) instead\n",
      "  if pd.api.types.is_categorical_dtype(vector):\n"
     ]
    },
    {
     "data": {
      "image/png": "[encoded data removed]",
      "text/plain": [
       "<Figure size 640x480 with 1 Axes>"
      ]
     },
     "metadata": {},
     "output_type": "display_data"
    }
   ],
   "source": [
    "sns.barplot(x=age_df['age'], y=age_df['churn'])\n",
    "plt.xticks(rotation=45)\n",
    "plt.show()\n"
   ]
  },
  {
   "cell_type": "code",
   "execution_count": 22,
   "metadata": {},
   "outputs": [
    {
     "data": {
      "text/plain": [
       "Index(['customer_id', 'telecom_partner', 'gender', 'age', 'state', 'city',\n",
       "       'pincode', 'registration_event', 'num_dependents', 'estimated_salary',\n",
       "       'calls_made', 'sms_sent', 'data_used', 'churn', 'rango'],\n",
       "      dtype='object')"
      ]
     },
     "execution_count": 22,
     "metadata": {},
     "output_type": "execute_result"
    }
   ],
   "source": [
    "df_full.columns"
   ]
  }
 ],
 "metadata": {
  "kernelspec": {
   "display_name": "Python 3",
   "language": "python",
   "name": "python3"
  },
  "language_info": {
   "codemirror_mode": {
    "name": "ipython",
    "version": 3
   },
   "file_extension": ".py",
   "mimetype": "text/x-python",
   "name": "python",
   "nbconvert_exporter": "python",
   "pygments_lexer": "ipython3",
   "version": "3.11.5"
  }
 },
 "nbformat": 4,
 "nbformat_minor": 2
}
